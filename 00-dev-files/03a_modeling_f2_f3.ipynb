{
 "cells": [
  {
   "cell_type": "code",
   "execution_count": 1,
   "id": "2b167f44",
   "metadata": {},
   "outputs": [],
   "source": [
    "import sqlite3\n",
    "import pandas as pd\n",
    "import warnings\n",
    "from tqdm import tqdm\n",
    "from joblib import dump, load\n",
    "from prophet import Prophet"
   ]
  },
  {
   "cell_type": "code",
   "execution_count": 2,
   "id": "747cff92",
   "metadata": {},
   "outputs": [],
   "source": [
    "analog_cols = [\n",
    "    'tp2',\n",
    "    'tp3',\n",
    "    'h1',\n",
    "    'dv_pressure',\n",
    "    'reservoirs',\n",
    "    'oil_temperature',\n",
    "    'flowmeter',\n",
    "    'motor_current'\n",
    "]\n",
    "\n",
    "digital_cols = [\n",
    "    'comp',\n",
    "    'dv_electric',\n",
    "    'towers',\n",
    "    'mpg',\n",
    "    'lps',\n",
    "    'pressure_switch',\n",
    "    'oil_level',\n",
    "    'caudal_impulses'\n",
    "]\n",
    "\n",
    "gps_cols = [\n",
    "    'gps_long',\n",
    "    'gps_lat',\n",
    "    'gps_speed',\n",
    "    'gps_quality'\n",
    "]"
   ]
  },
  {
   "cell_type": "code",
   "execution_count": 3,
   "id": "61433383",
   "metadata": {},
   "outputs": [
    {
     "name": "stdout",
     "output_type": "stream",
     "text": [
      "(6389782, 9)\n"
     ]
    }
   ],
   "source": [
    "cols = ', '.join(analog_cols)\n",
    "with sqlite3.connect('./data/data.db') as con:\n",
    "    df = pd.read_sql(\n",
    "        \"select ts, {cols} from train_data where date(ts) > '2022-03-02' order by ts asc\".format(cols=cols), \n",
    "        con=con, \n",
    "        parse_dates=['ts']\n",
    "    )\n",
    "\n",
    "print(df.shape)"
   ]
  },
  {
   "cell_type": "code",
   "execution_count": 4,
   "id": "b3b60058",
   "metadata": {},
   "outputs": [
    {
     "name": "stderr",
     "output_type": "stream",
     "text": [
      "  0%|          | 0/8 [00:00<?, ?it/s]20:39:52 - cmdstanpy - INFO - Chain [1] start processing\n",
      "20:56:01 - cmdstanpy - INFO - Chain [1] done processing\n",
      " 12%|█▎        | 1/8 [18:43<2:11:06, 1123.74s/it]20:58:36 - cmdstanpy - INFO - Chain [1] start processing\n",
      "21:00:46 - cmdstanpy - INFO - Chain [1] done processing\n",
      " 25%|██▌       | 2/8 [23:28<1:03:01, 630.26s/it] 21:03:21 - cmdstanpy - INFO - Chain [1] start processing\n",
      "21:23:00 - cmdstanpy - INFO - Chain [1] done processing\n",
      " 38%|███▊      | 3/8 [45:42<1:19:18, 951.68s/it]21:25:35 - cmdstanpy - INFO - Chain [1] start processing\n",
      "21:27:42 - cmdstanpy - INFO - Chain [1] done processing\n",
      " 50%|█████     | 4/8 [50:25<45:50, 687.53s/it]  21:30:18 - cmdstanpy - INFO - Chain [1] start processing\n",
      "21:56:05 - cmdstanpy - INFO - Chain [1] done processing\n",
      " 62%|██████▎   | 5/8 [1:18:48<52:41, 1053.70s/it]21:58:41 - cmdstanpy - INFO - Chain [1] start processing\n",
      "22:27:42 - cmdstanpy - INFO - Chain [1] done processing\n",
      " 75%|███████▌  | 6/8 [1:50:24<44:40, 1340.32s/it]22:30:17 - cmdstanpy - INFO - Chain [1] start processing\n",
      "22:38:24 - cmdstanpy - INFO - Chain [1] done processing\n",
      " 88%|████████▊ | 7/8 [2:01:07<18:32, 1112.06s/it]22:41:00 - cmdstanpy - INFO - Chain [1] start processing\n",
      "23:11:29 - cmdstanpy - INFO - Chain [1] done processing\n",
      "100%|██████████| 8/8 [2:34:12<00:00, 1156.56s/it]"
     ]
    },
    {
     "name": "stdout",
     "output_type": "stream",
     "text": [
      "CPU times: user 19min 52s, sys: 45.9 s, total: 20min 38s\n",
      "Wall time: 2h 34min 12s\n"
     ]
    },
    {
     "name": "stderr",
     "output_type": "stream",
     "text": [
      "\n"
     ]
    }
   ],
   "source": [
    "%%time\n",
    "for col in tqdm(analog_cols):\n",
    "    model = Prophet(\n",
    "        changepoint_prior_scale=0.5,\n",
    "        yearly_seasonality=False,\n",
    "        weekly_seasonality=False,\n",
    "        daily_seasonality=False\n",
    "    )\n",
    "\n",
    "    model.add_seasonality(name='30min', period=60*30, fourier_order=5)\n",
    "    model.add_seasonality(name='daily', period=72000, fourier_order=5)\n",
    "\n",
    "    model.fit(df.loc[:, ['ts', col]].rename(columns={'ts': 'ds', col: 'y'}))\n",
    "\n",
    "    dump(model, f'models/prophet_f2_f3_{col}.joblib')"
   ]
  },
  {
   "cell_type": "code",
   "execution_count": 5,
   "id": "9d9a5d09",
   "metadata": {},
   "outputs": [
    {
     "name": "stderr",
     "output_type": "stream",
     "text": [
      "100%|██████████| 8/8 [1:26:27<00:00, 648.38s/it]\n"
     ]
    }
   ],
   "source": [
    "chunk_size = 1_000_000\n",
    "\n",
    "with sqlite3.connect('./data/data.db') as con:\n",
    "    cur = con.cursor()\n",
    "    cur.execute('drop table if exists prophet_results_f2_f3;') \n",
    "    cur.execute('''\n",
    "        create table prophet_results_f2_f3 (\n",
    "            ds timestamp,\n",
    "            col text,\n",
    "            yhat real,\n",
    "            yhat_lower real,\n",
    "            yhat_upper real,\n",
    "            yhat_lower_expanded real,\n",
    "            yhat_upper_expanded real,\n",
    "            pred integer\n",
    "        );\n",
    "    ''')\n",
    "\n",
    "    for col in tqdm(analog_cols):\n",
    "        model = load(f'models/prophet_f2_f3_{col}.joblib')\n",
    "\n",
    "        for start in range(0, len(df), chunk_size):\n",
    "            chunk = df.iloc[start:start + chunk_size]\n",
    "\n",
    "            pred_df = (\n",
    "                model\n",
    "                    .predict(chunk.loc[:, ['ts', col]].rename(columns={'ts': 'ds'}))\n",
    "                    .merge(chunk.loc[:, ['ts', col]], left_on='ds', right_on='ts')\n",
    "            )\n",
    "\n",
    "            pred_df['col'] = col\n",
    "            pred_df['range'] = pred_df['yhat_upper'] - pred_df['yhat_lower']\n",
    "            pred_df['range_expanded'] = pred_df['range'] * 1.1\n",
    "            pred_df['yhat_upper_expanded'] = pred_df['yhat'] + pred_df['range_expanded'] / 2\n",
    "            pred_df['yhat_lower_expanded'] = pred_df['yhat'] - pred_df['range_expanded'] / 2\n",
    "\n",
    "            pred_df['pred'] = (\n",
    "                (pred_df[col] > pred_df['yhat_upper_expanded']) |\n",
    "                (pred_df[col] < pred_df['yhat_lower_expanded'])\n",
    "            ).astype(int)\n",
    "\n",
    "            sql_cols = [\n",
    "                'ds',\n",
    "                'col',\n",
    "                'yhat',\n",
    "                'yhat_lower',\n",
    "                'yhat_upper',\n",
    "                'yhat_lower_expanded',\n",
    "                'yhat_upper_expanded',\n",
    "                'pred'\n",
    "            ]\n",
    "            \n",
    "            pred_df[sql_cols].to_sql(\n",
    "                name='prophet_results_f2_f3',\n",
    "                con=con, \n",
    "                if_exists='append', \n",
    "                index=False,\n",
    "                chunksize=999,\n",
    "                method='multi'\n",
    "            )\n"
   ]
  },
  {
   "cell_type": "code",
   "execution_count": 6,
   "id": "9feb7c90",
   "metadata": {},
   "outputs": [],
   "source": [
    "n_signals = 5\n",
    "\n",
    "# Post process results\n",
    "with sqlite3.connect('./data/data.db') as con:\n",
    "    cur = con.cursor()\n",
    "\n",
    "    cur.execute('drop table if exists prophet_results_f2_f3_agg;')\n",
    "\n",
    "    cur.execute('''create table if not exists prophet_results_f2_f3_agg (ds timestamp, {cols}, {agg_cols});'''.format(\n",
    "        cols = ', '.join([f'{col}_pred integer' for col in analog_cols]),\n",
    "        agg_cols = 'total_sum integer, pred integer'\n",
    "    ))\n",
    "\n",
    "    cur.execute('''\n",
    "        insert into prophet_results_f2_f3_agg (ds, {cols})\n",
    "        select ds, {sum_cols}\n",
    "        from prophet_results\n",
    "        group by ds\n",
    "    '''.format(\n",
    "        cols = ', '.join([f'{col}_pred' for col in analog_cols]),\n",
    "        sum_cols = ', '.join([f\"sum(case when col='{col}' then pred else 0 end) as {col}_pred\" for col in analog_cols])\n",
    "    ))\n",
    "\n",
    "    cur.execute('''update prophet_results_f2_f3_agg set total_sum = {total_sum_col}'''.format(\n",
    "        total_sum_col = ' + '.join([f'{col}_pred' for col in analog_cols])\n",
    "    ))\n",
    "\n",
    "    cur.execute(f'''update prophet_results_f2_f3_agg set pred = case when total_sum >= {n_signals} then 1 else 0 end''')"
   ]
  },
  {
   "cell_type": "code",
   "execution_count": null,
   "id": "1f0b97eb",
   "metadata": {},
   "outputs": [],
   "source": []
  }
 ],
 "metadata": {
  "kernelspec": {
   "display_name": "practicum",
   "language": "python",
   "name": "python3"
  },
  "language_info": {
   "codemirror_mode": {
    "name": "ipython",
    "version": 3
   },
   "file_extension": ".py",
   "mimetype": "text/x-python",
   "name": "python",
   "nbconvert_exporter": "python",
   "pygments_lexer": "ipython3",
   "version": "3.13.2"
  }
 },
 "nbformat": 4,
 "nbformat_minor": 5
}
